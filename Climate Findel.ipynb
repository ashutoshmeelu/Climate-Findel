{
  "nbformat": 4,
  "nbformat_minor": 0,
  "metadata": {
    "colab": {
      "name": "Assignment_Climate_Findel.ipynb",
      "provenance": [],
      "collapsed_sections": []
    },
    "interpreter": {
      "hash": "31f2aee4e71d21fbe5cf8b01ff0e069b9275f58929596ceb00d14d90e3e16cd6"
    },
    "kernelspec": {
      "display_name": "Python 3.8.5 64-bit",
      "name": "python3"
    },
    "language_info": {
      "codemirror_mode": {
        "name": "ipython",
        "version": 3
      },
      "file_extension": ".py",
      "mimetype": "text/x-python",
      "name": "python",
      "nbconvert_exporter": "python",
      "pygments_lexer": "ipython3",
      "version": "3.8.5"
    }
  },
  "cells": [
    {
      "cell_type": "markdown",
      "metadata": {
        "id": "5Gya-mwxqgp7"
      },
      "source": [
        "## Get familiar with the data"
      ]
    },
    {
      "cell_type": "markdown",
      "metadata": {
        "id": "u3Tph2oDFOaN"
      },
      "source": [
        ""
      ]
    },
    {
      "cell_type": "markdown",
      "metadata": {
        "id": "Du2hpuy5qNxU"
      },
      "source": [
        "Climate normals are arithmetic averages of measured or observed meteorological elements. The general recommendation of the World Meteorological Organisation (WMO) is to use 30-year periods of reference. The current climatological standard normal period is 1991–2020. These long-term averages are used to describe the climate of an area. They are also used to compare the actual weather conditions occurring in a region with the average expected climate. This international coordination and standardisation enables comparisons of climate and climatological reports across national boundaries. \n",
        "\n",
        "Parameter description:\n",
        "\n",
        "    NM_T (°C): MEAN AIR TEMPERATURE AT 2 M\n",
        "    NM_XT (°C): MEAN DAILY MAXIMUM AIR TEMPERATURE AT 2 M\n",
        "    NM_NT (°C): MEAN DAILY MINIMUM AIR TEMPERATURE AT 2 M\n",
        "    NM_RR06_06 (mm): AMOUNT OF PRECIPITATION 05:46 UTC (M, D) TO 05:45 UTC (M+1, D+1)\n",
        "    NM_INS (hours): SUNSHINE DURATION\n",
        "    NM_U (%): MEAN RELATIVE HUMIDITY AT 2 M\n",
        "    NM_QFF (hPa): MEAN ATMOSPHERIC AIR PRESSURE REDUCED TO MEAN-SEA LEVEL\n",
        "    NM_ODRR01 (days): MEAN NUMBER OF DAYS WITH PRECIPITATION GREATER EQUAL 0.1 MM\n",
        "    NM_OFOG (days): MEAN NUMBER OF DAYS WITH FOG\n",
        "    NM_OCASETHSTORM (cases): MEAN NUMBER OF CASES WITH OCCURRENCE OF THUNDERSTORM\n",
        "    NM_OGLAZE (days): MEAN NUMBER OF DAYS WITH FREEZING PRECIPITATION\n",
        "    NM_OSNOW (days): MEAN NUMBER OF DAYS WITH SNOWFALL\n",
        "    NM_OGROUNDSNOW (days): MEAN NUMBER OF DAYS WITH SNOW COVER ON THE GROUND\n",
        "    NM_ODXT25 (days): MEAN NUMBER OF SUMMER DAYS (= MAXIMUM TEMPERATURE GREATER EQUAL 25 °C)\n",
        "    NM_ODXT30 (days): MEAN NUMBER OF HOT DAYS (= MAXIMUM TEMPERATURE GREATER EQUAL 30 °C)\n",
        "    NM_ODNT0 (days): MEAN NUMBER OF FROST DAYS (= MINIMUM TEMPERATURE SMALLER THAN 0 °C)\n",
        "    NM_0DXT0 (days): MEAN NUMBER OF ICE DAYS (= MAXIMUM TEMPERATURE SMALLER THAN 0 °C)\n"
      ]
    },
    {
      "cell_type": "markdown",
      "metadata": {
        "id": "tBDu2pd2vAQH"
      },
      "source": [
        "File format: CSV file sep=;\n",
        "Resources\n",
        "* 06590-climate-normals-luxfindel-1991-2020.csv\n",
        "* 06590-climate-normals-luxfindel-1981-2010.csv\n",
        "\n"
      ]
    },
    {
      "cell_type": "markdown",
      "metadata": {
        "id": "9USrI9IXqcUy"
      },
      "source": [
        "## Load data and print head"
      ]
    },
    {
      "cell_type": "code",
      "metadata": {
        "id": "rmgdM2UamDGC"
      },
      "source": [
        "import pandas as pd\n",
        "df_91_20=pd.read_csv('https://data.public.lu/fr/datasets/r/850ca2c2-88c5-4518-bf57-3fec2008821d',delimiter=\";\", encoding = \"ISO-8859-1\")\n",
        "df_81_10=pd.read_csv('https://data.public.lu/fr/datasets/r/4f4c8a32-84bf-4098-95eb-696e7e4ba3ec',delimiter=\";\", encoding = \"ISO-8859-1\")"
      ],
      "execution_count": 15,
      "outputs": []
    },
    {
      "cell_type": "code",
      "metadata": {
        "colab": {
          "base_uri": "https://localhost:8080/",
          "height": 202
        },
        "id": "LTYSXfuYquW8",
        "outputId": "beeb4a9c-e56f-4d67-840f-55b5ad94cfa9"
      },
      "source": [
        "df_91_20.head()"
      ],
      "execution_count": 16,
      "outputs": [
        {
          "output_type": "execute_result",
          "data": {
            "text/html": [
              "<div>\n",
              "<style scoped>\n",
              "    .dataframe tbody tr th:only-of-type {\n",
              "        vertical-align: middle;\n",
              "    }\n",
              "\n",
              "    .dataframe tbody tr th {\n",
              "        vertical-align: top;\n",
              "    }\n",
              "\n",
              "    .dataframe thead th {\n",
              "        text-align: right;\n",
              "    }\n",
              "</style>\n",
              "<table border=\"1\" class=\"dataframe\">\n",
              "  <thead>\n",
              "    <tr style=\"text-align: right;\">\n",
              "      <th></th>\n",
              "      <th>MONTH</th>\n",
              "      <th>JAN</th>\n",
              "      <th>FEB</th>\n",
              "      <th>MAR</th>\n",
              "      <th>APR</th>\n",
              "      <th>MAY</th>\n",
              "      <th>JUN</th>\n",
              "      <th>JUL</th>\n",
              "      <th>AUG</th>\n",
              "      <th>SEP</th>\n",
              "      <th>OCT</th>\n",
              "      <th>NOV</th>\n",
              "      <th>DEC</th>\n",
              "    </tr>\n",
              "  </thead>\n",
              "  <tbody>\n",
              "    <tr>\n",
              "      <th>0</th>\n",
              "      <td>NM_T (°C)</td>\n",
              "      <td>1.4</td>\n",
              "      <td>2.2</td>\n",
              "      <td>5.7</td>\n",
              "      <td>9.6</td>\n",
              "      <td>13.5</td>\n",
              "      <td>16.7</td>\n",
              "      <td>18.7</td>\n",
              "      <td>18.4</td>\n",
              "      <td>14.3</td>\n",
              "      <td>9.9</td>\n",
              "      <td>5.2</td>\n",
              "      <td>2.3</td>\n",
              "    </tr>\n",
              "    <tr>\n",
              "      <th>1</th>\n",
              "      <td>NM_XT (°C)</td>\n",
              "      <td>3.8</td>\n",
              "      <td>5.2</td>\n",
              "      <td>9.8</td>\n",
              "      <td>14.4</td>\n",
              "      <td>18.4</td>\n",
              "      <td>21.7</td>\n",
              "      <td>23.9</td>\n",
              "      <td>23.5</td>\n",
              "      <td>19.0</td>\n",
              "      <td>13.5</td>\n",
              "      <td>7.7</td>\n",
              "      <td>4.5</td>\n",
              "    </tr>\n",
              "    <tr>\n",
              "      <th>2</th>\n",
              "      <td>NM_NT (°C)</td>\n",
              "      <td>-1.0</td>\n",
              "      <td>-0.7</td>\n",
              "      <td>2.0</td>\n",
              "      <td>5.1</td>\n",
              "      <td>8.7</td>\n",
              "      <td>11.8</td>\n",
              "      <td>13.8</td>\n",
              "      <td>13.6</td>\n",
              "      <td>10.3</td>\n",
              "      <td>6.6</td>\n",
              "      <td>2.8</td>\n",
              "      <td>0.0</td>\n",
              "    </tr>\n",
              "    <tr>\n",
              "      <th>3</th>\n",
              "      <td>NM_RR06_06 (mm)</td>\n",
              "      <td>71.5</td>\n",
              "      <td>59.5</td>\n",
              "      <td>56.6</td>\n",
              "      <td>49.4</td>\n",
              "      <td>73.3</td>\n",
              "      <td>73.0</td>\n",
              "      <td>72.1</td>\n",
              "      <td>71.9</td>\n",
              "      <td>66.6</td>\n",
              "      <td>76.2</td>\n",
              "      <td>71.7</td>\n",
              "      <td>89.5</td>\n",
              "    </tr>\n",
              "    <tr>\n",
              "      <th>4</th>\n",
              "      <td>NM_INS (hours)</td>\n",
              "      <td>52.0</td>\n",
              "      <td>79.5</td>\n",
              "      <td>137.1</td>\n",
              "      <td>197.5</td>\n",
              "      <td>226.3</td>\n",
              "      <td>241.2</td>\n",
              "      <td>257.6</td>\n",
              "      <td>237.1</td>\n",
              "      <td>174.9</td>\n",
              "      <td>106.7</td>\n",
              "      <td>51.1</td>\n",
              "      <td>41.9</td>\n",
              "    </tr>\n",
              "  </tbody>\n",
              "</table>\n",
              "</div>"
            ],
            "text/plain": [
              "             MONTH   JAN   FEB    MAR    APR  ...    AUG    SEP    OCT   NOV   DEC\n",
              "0        NM_T (°C)   1.4   2.2    5.7    9.6  ...   18.4   14.3    9.9   5.2   2.3\n",
              "1       NM_XT (°C)   3.8   5.2    9.8   14.4  ...   23.5   19.0   13.5   7.7   4.5\n",
              "2       NM_NT (°C)  -1.0  -0.7    2.0    5.1  ...   13.6   10.3    6.6   2.8   0.0\n",
              "3  NM_RR06_06 (mm)  71.5  59.5   56.6   49.4  ...   71.9   66.6   76.2  71.7  89.5\n",
              "4   NM_INS (hours)  52.0  79.5  137.1  197.5  ...  237.1  174.9  106.7  51.1  41.9\n",
              "\n",
              "[5 rows x 13 columns]"
            ]
          },
          "metadata": {},
          "execution_count": 16
        }
      ]
    },
    {
      "cell_type": "code",
      "metadata": {
        "colab": {
          "base_uri": "https://localhost:8080/",
          "height": 202
        },
        "id": "YahaoLuAq8nt",
        "outputId": "ec39329f-c34d-4558-b74e-1516f8674845"
      },
      "source": [
        "df_81_10.head()"
      ],
      "execution_count": 17,
      "outputs": [
        {
          "output_type": "execute_result",
          "data": {
            "text/html": [
              "<div>\n",
              "<style scoped>\n",
              "    .dataframe tbody tr th:only-of-type {\n",
              "        vertical-align: middle;\n",
              "    }\n",
              "\n",
              "    .dataframe tbody tr th {\n",
              "        vertical-align: top;\n",
              "    }\n",
              "\n",
              "    .dataframe thead th {\n",
              "        text-align: right;\n",
              "    }\n",
              "</style>\n",
              "<table border=\"1\" class=\"dataframe\">\n",
              "  <thead>\n",
              "    <tr style=\"text-align: right;\">\n",
              "      <th></th>\n",
              "      <th>MONTH</th>\n",
              "      <th>JAN</th>\n",
              "      <th>FEB</th>\n",
              "      <th>MAR</th>\n",
              "      <th>APR</th>\n",
              "      <th>MAY</th>\n",
              "      <th>JUN</th>\n",
              "      <th>JUL</th>\n",
              "      <th>AUG</th>\n",
              "      <th>SEP</th>\n",
              "      <th>OCT</th>\n",
              "      <th>NOV</th>\n",
              "      <th>DEC</th>\n",
              "    </tr>\n",
              "  </thead>\n",
              "  <tbody>\n",
              "    <tr>\n",
              "      <th>0</th>\n",
              "      <td>NM_T (°C)</td>\n",
              "      <td>0.8</td>\n",
              "      <td>1.6</td>\n",
              "      <td>5.2</td>\n",
              "      <td>8.7</td>\n",
              "      <td>13.0</td>\n",
              "      <td>15.9</td>\n",
              "      <td>18.2</td>\n",
              "      <td>17.7</td>\n",
              "      <td>13.9</td>\n",
              "      <td>9.5</td>\n",
              "      <td>4.7</td>\n",
              "      <td>1.8</td>\n",
              "    </tr>\n",
              "    <tr>\n",
              "      <th>1</th>\n",
              "      <td>NM_XT (°C)</td>\n",
              "      <td>3.1</td>\n",
              "      <td>4.7</td>\n",
              "      <td>9.1</td>\n",
              "      <td>13.3</td>\n",
              "      <td>17.8</td>\n",
              "      <td>20.7</td>\n",
              "      <td>23.3</td>\n",
              "      <td>22.8</td>\n",
              "      <td>18.4</td>\n",
              "      <td>13.1</td>\n",
              "      <td>7.3</td>\n",
              "      <td>3.9</td>\n",
              "    </tr>\n",
              "    <tr>\n",
              "      <th>2</th>\n",
              "      <td>NM_NT (°C)</td>\n",
              "      <td>-1.6</td>\n",
              "      <td>-1.3</td>\n",
              "      <td>1.6</td>\n",
              "      <td>4.4</td>\n",
              "      <td>8.4</td>\n",
              "      <td>11.1</td>\n",
              "      <td>13.3</td>\n",
              "      <td>13.0</td>\n",
              "      <td>10.0</td>\n",
              "      <td>6.3</td>\n",
              "      <td>2.2</td>\n",
              "      <td>-0.5</td>\n",
              "    </tr>\n",
              "    <tr>\n",
              "      <th>3</th>\n",
              "      <td>NM_RR06_06 (mm)</td>\n",
              "      <td>76.6</td>\n",
              "      <td>62.5</td>\n",
              "      <td>69.1</td>\n",
              "      <td>58.2</td>\n",
              "      <td>78.5</td>\n",
              "      <td>79.9</td>\n",
              "      <td>71.0</td>\n",
              "      <td>75.4</td>\n",
              "      <td>76.3</td>\n",
              "      <td>86.8</td>\n",
              "      <td>76.0</td>\n",
              "      <td>86.7</td>\n",
              "    </tr>\n",
              "    <tr>\n",
              "      <th>4</th>\n",
              "      <td>NM_INS (hours)</td>\n",
              "      <td>50.3</td>\n",
              "      <td>83.6</td>\n",
              "      <td>125.1</td>\n",
              "      <td>181.6</td>\n",
              "      <td>213.4</td>\n",
              "      <td>227.0</td>\n",
              "      <td>250.3</td>\n",
              "      <td>230.8</td>\n",
              "      <td>161.9</td>\n",
              "      <td>105.9</td>\n",
              "      <td>54.2</td>\n",
              "      <td>41.0</td>\n",
              "    </tr>\n",
              "  </tbody>\n",
              "</table>\n",
              "</div>"
            ],
            "text/plain": [
              "             MONTH   JAN   FEB    MAR    APR  ...    AUG    SEP    OCT   NOV   DEC\n",
              "0        NM_T (°C)   0.8   1.6    5.2    8.7  ...   17.7   13.9    9.5   4.7   1.8\n",
              "1       NM_XT (°C)   3.1   4.7    9.1   13.3  ...   22.8   18.4   13.1   7.3   3.9\n",
              "2       NM_NT (°C)  -1.6  -1.3    1.6    4.4  ...   13.0   10.0    6.3   2.2  -0.5\n",
              "3  NM_RR06_06 (mm)  76.6  62.5   69.1   58.2  ...   75.4   76.3   86.8  76.0  86.7\n",
              "4   NM_INS (hours)  50.3  83.6  125.1  181.6  ...  230.8  161.9  105.9  54.2  41.0\n",
              "\n",
              "[5 rows x 13 columns]"
            ]
          },
          "metadata": {},
          "execution_count": 17
        }
      ]
    },
    {
      "cell_type": "markdown",
      "metadata": {
        "id": "23GE6ktWrLi6"
      },
      "source": [
        "## For both the dataframes, rename the column \"MONTH\" to \"Parameters\" and make it the index"
      ]
    },
    {
      "cell_type": "code",
      "metadata": {
        "id": "bLJ0a343-AWV",
        "colab": {
          "base_uri": "https://localhost:8080/",
          "height": 202
        },
        "outputId": "c2d2f4f6-c826-458e-c792-43a0c318b49a"
      },
      "source": [
        "df_91_20.rename(columns={'MONTH':\"Parameters\"},inplace=True)\n",
        "df_91_20.head()\n",
        "\n"
      ],
      "execution_count": 18,
      "outputs": [
        {
          "output_type": "execute_result",
          "data": {
            "text/html": [
              "<div>\n",
              "<style scoped>\n",
              "    .dataframe tbody tr th:only-of-type {\n",
              "        vertical-align: middle;\n",
              "    }\n",
              "\n",
              "    .dataframe tbody tr th {\n",
              "        vertical-align: top;\n",
              "    }\n",
              "\n",
              "    .dataframe thead th {\n",
              "        text-align: right;\n",
              "    }\n",
              "</style>\n",
              "<table border=\"1\" class=\"dataframe\">\n",
              "  <thead>\n",
              "    <tr style=\"text-align: right;\">\n",
              "      <th></th>\n",
              "      <th>Parameters</th>\n",
              "      <th>JAN</th>\n",
              "      <th>FEB</th>\n",
              "      <th>MAR</th>\n",
              "      <th>APR</th>\n",
              "      <th>MAY</th>\n",
              "      <th>JUN</th>\n",
              "      <th>JUL</th>\n",
              "      <th>AUG</th>\n",
              "      <th>SEP</th>\n",
              "      <th>OCT</th>\n",
              "      <th>NOV</th>\n",
              "      <th>DEC</th>\n",
              "    </tr>\n",
              "  </thead>\n",
              "  <tbody>\n",
              "    <tr>\n",
              "      <th>0</th>\n",
              "      <td>NM_T (°C)</td>\n",
              "      <td>1.4</td>\n",
              "      <td>2.2</td>\n",
              "      <td>5.7</td>\n",
              "      <td>9.6</td>\n",
              "      <td>13.5</td>\n",
              "      <td>16.7</td>\n",
              "      <td>18.7</td>\n",
              "      <td>18.4</td>\n",
              "      <td>14.3</td>\n",
              "      <td>9.9</td>\n",
              "      <td>5.2</td>\n",
              "      <td>2.3</td>\n",
              "    </tr>\n",
              "    <tr>\n",
              "      <th>1</th>\n",
              "      <td>NM_XT (°C)</td>\n",
              "      <td>3.8</td>\n",
              "      <td>5.2</td>\n",
              "      <td>9.8</td>\n",
              "      <td>14.4</td>\n",
              "      <td>18.4</td>\n",
              "      <td>21.7</td>\n",
              "      <td>23.9</td>\n",
              "      <td>23.5</td>\n",
              "      <td>19.0</td>\n",
              "      <td>13.5</td>\n",
              "      <td>7.7</td>\n",
              "      <td>4.5</td>\n",
              "    </tr>\n",
              "    <tr>\n",
              "      <th>2</th>\n",
              "      <td>NM_NT (°C)</td>\n",
              "      <td>-1.0</td>\n",
              "      <td>-0.7</td>\n",
              "      <td>2.0</td>\n",
              "      <td>5.1</td>\n",
              "      <td>8.7</td>\n",
              "      <td>11.8</td>\n",
              "      <td>13.8</td>\n",
              "      <td>13.6</td>\n",
              "      <td>10.3</td>\n",
              "      <td>6.6</td>\n",
              "      <td>2.8</td>\n",
              "      <td>0.0</td>\n",
              "    </tr>\n",
              "    <tr>\n",
              "      <th>3</th>\n",
              "      <td>NM_RR06_06 (mm)</td>\n",
              "      <td>71.5</td>\n",
              "      <td>59.5</td>\n",
              "      <td>56.6</td>\n",
              "      <td>49.4</td>\n",
              "      <td>73.3</td>\n",
              "      <td>73.0</td>\n",
              "      <td>72.1</td>\n",
              "      <td>71.9</td>\n",
              "      <td>66.6</td>\n",
              "      <td>76.2</td>\n",
              "      <td>71.7</td>\n",
              "      <td>89.5</td>\n",
              "    </tr>\n",
              "    <tr>\n",
              "      <th>4</th>\n",
              "      <td>NM_INS (hours)</td>\n",
              "      <td>52.0</td>\n",
              "      <td>79.5</td>\n",
              "      <td>137.1</td>\n",
              "      <td>197.5</td>\n",
              "      <td>226.3</td>\n",
              "      <td>241.2</td>\n",
              "      <td>257.6</td>\n",
              "      <td>237.1</td>\n",
              "      <td>174.9</td>\n",
              "      <td>106.7</td>\n",
              "      <td>51.1</td>\n",
              "      <td>41.9</td>\n",
              "    </tr>\n",
              "  </tbody>\n",
              "</table>\n",
              "</div>"
            ],
            "text/plain": [
              "        Parameters   JAN   FEB    MAR    APR  ...    AUG    SEP    OCT   NOV   DEC\n",
              "0        NM_T (°C)   1.4   2.2    5.7    9.6  ...   18.4   14.3    9.9   5.2   2.3\n",
              "1       NM_XT (°C)   3.8   5.2    9.8   14.4  ...   23.5   19.0   13.5   7.7   4.5\n",
              "2       NM_NT (°C)  -1.0  -0.7    2.0    5.1  ...   13.6   10.3    6.6   2.8   0.0\n",
              "3  NM_RR06_06 (mm)  71.5  59.5   56.6   49.4  ...   71.9   66.6   76.2  71.7  89.5\n",
              "4   NM_INS (hours)  52.0  79.5  137.1  197.5  ...  237.1  174.9  106.7  51.1  41.9\n",
              "\n",
              "[5 rows x 13 columns]"
            ]
          },
          "metadata": {},
          "execution_count": 18
        }
      ]
    },
    {
      "cell_type": "code",
      "metadata": {
        "colab": {
          "base_uri": "https://localhost:8080/",
          "height": 232
        },
        "id": "Xxcqn0trzi9E",
        "outputId": "5f15c856-80ef-43b4-fdfa-d13b7b51a20f"
      },
      "source": [
        "df_91_20=df_91_20.set_index('Parameters')\n",
        "df_91_20.head()"
      ],
      "execution_count": 19,
      "outputs": [
        {
          "output_type": "execute_result",
          "data": {
            "text/html": [
              "<div>\n",
              "<style scoped>\n",
              "    .dataframe tbody tr th:only-of-type {\n",
              "        vertical-align: middle;\n",
              "    }\n",
              "\n",
              "    .dataframe tbody tr th {\n",
              "        vertical-align: top;\n",
              "    }\n",
              "\n",
              "    .dataframe thead th {\n",
              "        text-align: right;\n",
              "    }\n",
              "</style>\n",
              "<table border=\"1\" class=\"dataframe\">\n",
              "  <thead>\n",
              "    <tr style=\"text-align: right;\">\n",
              "      <th></th>\n",
              "      <th>JAN</th>\n",
              "      <th>FEB</th>\n",
              "      <th>MAR</th>\n",
              "      <th>APR</th>\n",
              "      <th>MAY</th>\n",
              "      <th>JUN</th>\n",
              "      <th>JUL</th>\n",
              "      <th>AUG</th>\n",
              "      <th>SEP</th>\n",
              "      <th>OCT</th>\n",
              "      <th>NOV</th>\n",
              "      <th>DEC</th>\n",
              "    </tr>\n",
              "    <tr>\n",
              "      <th>Parameters</th>\n",
              "      <th></th>\n",
              "      <th></th>\n",
              "      <th></th>\n",
              "      <th></th>\n",
              "      <th></th>\n",
              "      <th></th>\n",
              "      <th></th>\n",
              "      <th></th>\n",
              "      <th></th>\n",
              "      <th></th>\n",
              "      <th></th>\n",
              "      <th></th>\n",
              "    </tr>\n",
              "  </thead>\n",
              "  <tbody>\n",
              "    <tr>\n",
              "      <th>NM_T (°C)</th>\n",
              "      <td>1.4</td>\n",
              "      <td>2.2</td>\n",
              "      <td>5.7</td>\n",
              "      <td>9.6</td>\n",
              "      <td>13.5</td>\n",
              "      <td>16.7</td>\n",
              "      <td>18.7</td>\n",
              "      <td>18.4</td>\n",
              "      <td>14.3</td>\n",
              "      <td>9.9</td>\n",
              "      <td>5.2</td>\n",
              "      <td>2.3</td>\n",
              "    </tr>\n",
              "    <tr>\n",
              "      <th>NM_XT (°C)</th>\n",
              "      <td>3.8</td>\n",
              "      <td>5.2</td>\n",
              "      <td>9.8</td>\n",
              "      <td>14.4</td>\n",
              "      <td>18.4</td>\n",
              "      <td>21.7</td>\n",
              "      <td>23.9</td>\n",
              "      <td>23.5</td>\n",
              "      <td>19.0</td>\n",
              "      <td>13.5</td>\n",
              "      <td>7.7</td>\n",
              "      <td>4.5</td>\n",
              "    </tr>\n",
              "    <tr>\n",
              "      <th>NM_NT (°C)</th>\n",
              "      <td>-1.0</td>\n",
              "      <td>-0.7</td>\n",
              "      <td>2.0</td>\n",
              "      <td>5.1</td>\n",
              "      <td>8.7</td>\n",
              "      <td>11.8</td>\n",
              "      <td>13.8</td>\n",
              "      <td>13.6</td>\n",
              "      <td>10.3</td>\n",
              "      <td>6.6</td>\n",
              "      <td>2.8</td>\n",
              "      <td>0.0</td>\n",
              "    </tr>\n",
              "    <tr>\n",
              "      <th>NM_RR06_06 (mm)</th>\n",
              "      <td>71.5</td>\n",
              "      <td>59.5</td>\n",
              "      <td>56.6</td>\n",
              "      <td>49.4</td>\n",
              "      <td>73.3</td>\n",
              "      <td>73.0</td>\n",
              "      <td>72.1</td>\n",
              "      <td>71.9</td>\n",
              "      <td>66.6</td>\n",
              "      <td>76.2</td>\n",
              "      <td>71.7</td>\n",
              "      <td>89.5</td>\n",
              "    </tr>\n",
              "    <tr>\n",
              "      <th>NM_INS (hours)</th>\n",
              "      <td>52.0</td>\n",
              "      <td>79.5</td>\n",
              "      <td>137.1</td>\n",
              "      <td>197.5</td>\n",
              "      <td>226.3</td>\n",
              "      <td>241.2</td>\n",
              "      <td>257.6</td>\n",
              "      <td>237.1</td>\n",
              "      <td>174.9</td>\n",
              "      <td>106.7</td>\n",
              "      <td>51.1</td>\n",
              "      <td>41.9</td>\n",
              "    </tr>\n",
              "  </tbody>\n",
              "</table>\n",
              "</div>"
            ],
            "text/plain": [
              "                  JAN   FEB    MAR    APR  ...    SEP    OCT   NOV   DEC\n",
              "Parameters                                 ...                          \n",
              "NM_T (°C)         1.4   2.2    5.7    9.6  ...   14.3    9.9   5.2   2.3\n",
              "NM_XT (°C)        3.8   5.2    9.8   14.4  ...   19.0   13.5   7.7   4.5\n",
              "NM_NT (°C)       -1.0  -0.7    2.0    5.1  ...   10.3    6.6   2.8   0.0\n",
              "NM_RR06_06 (mm)  71.5  59.5   56.6   49.4  ...   66.6   76.2  71.7  89.5\n",
              "NM_INS (hours)   52.0  79.5  137.1  197.5  ...  174.9  106.7  51.1  41.9\n",
              "\n",
              "[5 rows x 12 columns]"
            ]
          },
          "metadata": {},
          "execution_count": 19
        }
      ]
    },
    {
      "cell_type": "code",
      "metadata": {
        "colab": {
          "base_uri": "https://localhost:8080/",
          "height": 202
        },
        "id": "re75HKOhzlrv",
        "outputId": "ba056ae3-e352-4229-bcea-8f14a2664cd7"
      },
      "source": [
        "df_81_10.rename(columns={'MONTH':\"Parameters\"},inplace=True)\n",
        "df_81_10.head()"
      ],
      "execution_count": 20,
      "outputs": [
        {
          "output_type": "execute_result",
          "data": {
            "text/html": [
              "<div>\n",
              "<style scoped>\n",
              "    .dataframe tbody tr th:only-of-type {\n",
              "        vertical-align: middle;\n",
              "    }\n",
              "\n",
              "    .dataframe tbody tr th {\n",
              "        vertical-align: top;\n",
              "    }\n",
              "\n",
              "    .dataframe thead th {\n",
              "        text-align: right;\n",
              "    }\n",
              "</style>\n",
              "<table border=\"1\" class=\"dataframe\">\n",
              "  <thead>\n",
              "    <tr style=\"text-align: right;\">\n",
              "      <th></th>\n",
              "      <th>Parameters</th>\n",
              "      <th>JAN</th>\n",
              "      <th>FEB</th>\n",
              "      <th>MAR</th>\n",
              "      <th>APR</th>\n",
              "      <th>MAY</th>\n",
              "      <th>JUN</th>\n",
              "      <th>JUL</th>\n",
              "      <th>AUG</th>\n",
              "      <th>SEP</th>\n",
              "      <th>OCT</th>\n",
              "      <th>NOV</th>\n",
              "      <th>DEC</th>\n",
              "    </tr>\n",
              "  </thead>\n",
              "  <tbody>\n",
              "    <tr>\n",
              "      <th>0</th>\n",
              "      <td>NM_T (°C)</td>\n",
              "      <td>0.8</td>\n",
              "      <td>1.6</td>\n",
              "      <td>5.2</td>\n",
              "      <td>8.7</td>\n",
              "      <td>13.0</td>\n",
              "      <td>15.9</td>\n",
              "      <td>18.2</td>\n",
              "      <td>17.7</td>\n",
              "      <td>13.9</td>\n",
              "      <td>9.5</td>\n",
              "      <td>4.7</td>\n",
              "      <td>1.8</td>\n",
              "    </tr>\n",
              "    <tr>\n",
              "      <th>1</th>\n",
              "      <td>NM_XT (°C)</td>\n",
              "      <td>3.1</td>\n",
              "      <td>4.7</td>\n",
              "      <td>9.1</td>\n",
              "      <td>13.3</td>\n",
              "      <td>17.8</td>\n",
              "      <td>20.7</td>\n",
              "      <td>23.3</td>\n",
              "      <td>22.8</td>\n",
              "      <td>18.4</td>\n",
              "      <td>13.1</td>\n",
              "      <td>7.3</td>\n",
              "      <td>3.9</td>\n",
              "    </tr>\n",
              "    <tr>\n",
              "      <th>2</th>\n",
              "      <td>NM_NT (°C)</td>\n",
              "      <td>-1.6</td>\n",
              "      <td>-1.3</td>\n",
              "      <td>1.6</td>\n",
              "      <td>4.4</td>\n",
              "      <td>8.4</td>\n",
              "      <td>11.1</td>\n",
              "      <td>13.3</td>\n",
              "      <td>13.0</td>\n",
              "      <td>10.0</td>\n",
              "      <td>6.3</td>\n",
              "      <td>2.2</td>\n",
              "      <td>-0.5</td>\n",
              "    </tr>\n",
              "    <tr>\n",
              "      <th>3</th>\n",
              "      <td>NM_RR06_06 (mm)</td>\n",
              "      <td>76.6</td>\n",
              "      <td>62.5</td>\n",
              "      <td>69.1</td>\n",
              "      <td>58.2</td>\n",
              "      <td>78.5</td>\n",
              "      <td>79.9</td>\n",
              "      <td>71.0</td>\n",
              "      <td>75.4</td>\n",
              "      <td>76.3</td>\n",
              "      <td>86.8</td>\n",
              "      <td>76.0</td>\n",
              "      <td>86.7</td>\n",
              "    </tr>\n",
              "    <tr>\n",
              "      <th>4</th>\n",
              "      <td>NM_INS (hours)</td>\n",
              "      <td>50.3</td>\n",
              "      <td>83.6</td>\n",
              "      <td>125.1</td>\n",
              "      <td>181.6</td>\n",
              "      <td>213.4</td>\n",
              "      <td>227.0</td>\n",
              "      <td>250.3</td>\n",
              "      <td>230.8</td>\n",
              "      <td>161.9</td>\n",
              "      <td>105.9</td>\n",
              "      <td>54.2</td>\n",
              "      <td>41.0</td>\n",
              "    </tr>\n",
              "  </tbody>\n",
              "</table>\n",
              "</div>"
            ],
            "text/plain": [
              "        Parameters   JAN   FEB    MAR    APR  ...    AUG    SEP    OCT   NOV   DEC\n",
              "0        NM_T (°C)   0.8   1.6    5.2    8.7  ...   17.7   13.9    9.5   4.7   1.8\n",
              "1       NM_XT (°C)   3.1   4.7    9.1   13.3  ...   22.8   18.4   13.1   7.3   3.9\n",
              "2       NM_NT (°C)  -1.6  -1.3    1.6    4.4  ...   13.0   10.0    6.3   2.2  -0.5\n",
              "3  NM_RR06_06 (mm)  76.6  62.5   69.1   58.2  ...   75.4   76.3   86.8  76.0  86.7\n",
              "4   NM_INS (hours)  50.3  83.6  125.1  181.6  ...  230.8  161.9  105.9  54.2  41.0\n",
              "\n",
              "[5 rows x 13 columns]"
            ]
          },
          "metadata": {},
          "execution_count": 20
        }
      ]
    },
    {
      "cell_type": "code",
      "metadata": {
        "colab": {
          "base_uri": "https://localhost:8080/",
          "height": 232
        },
        "id": "9DG2mjJKzru2",
        "outputId": "a5c55321-815a-4345-9904-98852db0b87a"
      },
      "source": [
        "df_81_10=df_81_10.set_index('Parameters')\n",
        "df_81_10.head()"
      ],
      "execution_count": 21,
      "outputs": [
        {
          "output_type": "execute_result",
          "data": {
            "text/html": [
              "<div>\n",
              "<style scoped>\n",
              "    .dataframe tbody tr th:only-of-type {\n",
              "        vertical-align: middle;\n",
              "    }\n",
              "\n",
              "    .dataframe tbody tr th {\n",
              "        vertical-align: top;\n",
              "    }\n",
              "\n",
              "    .dataframe thead th {\n",
              "        text-align: right;\n",
              "    }\n",
              "</style>\n",
              "<table border=\"1\" class=\"dataframe\">\n",
              "  <thead>\n",
              "    <tr style=\"text-align: right;\">\n",
              "      <th></th>\n",
              "      <th>JAN</th>\n",
              "      <th>FEB</th>\n",
              "      <th>MAR</th>\n",
              "      <th>APR</th>\n",
              "      <th>MAY</th>\n",
              "      <th>JUN</th>\n",
              "      <th>JUL</th>\n",
              "      <th>AUG</th>\n",
              "      <th>SEP</th>\n",
              "      <th>OCT</th>\n",
              "      <th>NOV</th>\n",
              "      <th>DEC</th>\n",
              "    </tr>\n",
              "    <tr>\n",
              "      <th>Parameters</th>\n",
              "      <th></th>\n",
              "      <th></th>\n",
              "      <th></th>\n",
              "      <th></th>\n",
              "      <th></th>\n",
              "      <th></th>\n",
              "      <th></th>\n",
              "      <th></th>\n",
              "      <th></th>\n",
              "      <th></th>\n",
              "      <th></th>\n",
              "      <th></th>\n",
              "    </tr>\n",
              "  </thead>\n",
              "  <tbody>\n",
              "    <tr>\n",
              "      <th>NM_T (°C)</th>\n",
              "      <td>0.8</td>\n",
              "      <td>1.6</td>\n",
              "      <td>5.2</td>\n",
              "      <td>8.7</td>\n",
              "      <td>13.0</td>\n",
              "      <td>15.9</td>\n",
              "      <td>18.2</td>\n",
              "      <td>17.7</td>\n",
              "      <td>13.9</td>\n",
              "      <td>9.5</td>\n",
              "      <td>4.7</td>\n",
              "      <td>1.8</td>\n",
              "    </tr>\n",
              "    <tr>\n",
              "      <th>NM_XT (°C)</th>\n",
              "      <td>3.1</td>\n",
              "      <td>4.7</td>\n",
              "      <td>9.1</td>\n",
              "      <td>13.3</td>\n",
              "      <td>17.8</td>\n",
              "      <td>20.7</td>\n",
              "      <td>23.3</td>\n",
              "      <td>22.8</td>\n",
              "      <td>18.4</td>\n",
              "      <td>13.1</td>\n",
              "      <td>7.3</td>\n",
              "      <td>3.9</td>\n",
              "    </tr>\n",
              "    <tr>\n",
              "      <th>NM_NT (°C)</th>\n",
              "      <td>-1.6</td>\n",
              "      <td>-1.3</td>\n",
              "      <td>1.6</td>\n",
              "      <td>4.4</td>\n",
              "      <td>8.4</td>\n",
              "      <td>11.1</td>\n",
              "      <td>13.3</td>\n",
              "      <td>13.0</td>\n",
              "      <td>10.0</td>\n",
              "      <td>6.3</td>\n",
              "      <td>2.2</td>\n",
              "      <td>-0.5</td>\n",
              "    </tr>\n",
              "    <tr>\n",
              "      <th>NM_RR06_06 (mm)</th>\n",
              "      <td>76.6</td>\n",
              "      <td>62.5</td>\n",
              "      <td>69.1</td>\n",
              "      <td>58.2</td>\n",
              "      <td>78.5</td>\n",
              "      <td>79.9</td>\n",
              "      <td>71.0</td>\n",
              "      <td>75.4</td>\n",
              "      <td>76.3</td>\n",
              "      <td>86.8</td>\n",
              "      <td>76.0</td>\n",
              "      <td>86.7</td>\n",
              "    </tr>\n",
              "    <tr>\n",
              "      <th>NM_INS (hours)</th>\n",
              "      <td>50.3</td>\n",
              "      <td>83.6</td>\n",
              "      <td>125.1</td>\n",
              "      <td>181.6</td>\n",
              "      <td>213.4</td>\n",
              "      <td>227.0</td>\n",
              "      <td>250.3</td>\n",
              "      <td>230.8</td>\n",
              "      <td>161.9</td>\n",
              "      <td>105.9</td>\n",
              "      <td>54.2</td>\n",
              "      <td>41.0</td>\n",
              "    </tr>\n",
              "  </tbody>\n",
              "</table>\n",
              "</div>"
            ],
            "text/plain": [
              "                  JAN   FEB    MAR    APR  ...    SEP    OCT   NOV   DEC\n",
              "Parameters                                 ...                          \n",
              "NM_T (°C)         0.8   1.6    5.2    8.7  ...   13.9    9.5   4.7   1.8\n",
              "NM_XT (°C)        3.1   4.7    9.1   13.3  ...   18.4   13.1   7.3   3.9\n",
              "NM_NT (°C)       -1.6  -1.3    1.6    4.4  ...   10.0    6.3   2.2  -0.5\n",
              "NM_RR06_06 (mm)  76.6  62.5   69.1   58.2  ...   76.3   86.8  76.0  86.7\n",
              "NM_INS (hours)   50.3  83.6  125.1  181.6  ...  161.9  105.9  54.2  41.0\n",
              "\n",
              "[5 rows x 12 columns]"
            ]
          },
          "metadata": {},
          "execution_count": 21
        }
      ]
    },
    {
      "cell_type": "code",
      "metadata": {
        "id": "7Ku9IDvJzaI_"
      },
      "source": [
        ""
      ],
      "execution_count": null,
      "outputs": []
    },
    {
      "cell_type": "markdown",
      "metadata": {
        "id": "VfET2Jd9rrZ3"
      },
      "source": [
        "## Check the datatypes of each column and change non-numeric columns to numeric"
      ]
    },
    {
      "cell_type": "code",
      "metadata": {
        "id": "w9mPbjc68U75",
        "colab": {
          "base_uri": "https://localhost:8080/"
        },
        "outputId": "6748620f-68f1-4429-cd82-06092e8d8c5c"
      },
      "source": [
        "df_81_10.dtypes\n"
      ],
      "execution_count": 22,
      "outputs": [
        {
          "output_type": "execute_result",
          "data": {
            "text/plain": [
              "JAN    float64\n",
              "FEB    float64\n",
              "MAR    float64\n",
              "APR    float64\n",
              "MAY    float64\n",
              "JUN    float64\n",
              "JUL    float64\n",
              "AUG    float64\n",
              "SEP    float64\n",
              "OCT     object\n",
              "NOV     object\n",
              "DEC    float64\n",
              "dtype: object"
            ]
          },
          "metadata": {},
          "execution_count": 22
        }
      ]
    },
    {
      "cell_type": "code",
      "metadata": {
        "colab": {
          "base_uri": "https://localhost:8080/"
        },
        "id": "LDr1fGtuz98q",
        "outputId": "4cc139bf-a589-4fac-d23f-5800501e1d1f"
      },
      "source": [
        "df_81_10['OCT']= pd.to_numeric(df_81_10['OCT'],errors='coerce')\n",
        "df_81_10['NOV']= pd.to_numeric(df_81_10['NOV'],errors='coerce')\n",
        "df_81_10.dtypes"
      ],
      "execution_count": 23,
      "outputs": [
        {
          "output_type": "execute_result",
          "data": {
            "text/plain": [
              "JAN    float64\n",
              "FEB    float64\n",
              "MAR    float64\n",
              "APR    float64\n",
              "MAY    float64\n",
              "JUN    float64\n",
              "JUL    float64\n",
              "AUG    float64\n",
              "SEP    float64\n",
              "OCT    float64\n",
              "NOV    float64\n",
              "DEC    float64\n",
              "dtype: object"
            ]
          },
          "metadata": {},
          "execution_count": 23
        }
      ]
    },
    {
      "cell_type": "code",
      "metadata": {
        "colab": {
          "base_uri": "https://localhost:8080/"
        },
        "id": "1fErBpR70AN2",
        "outputId": "3bb8c0bf-632a-4a6a-f6aa-389c8498e960"
      },
      "source": [
        "df_91_20.dtypes"
      ],
      "execution_count": 24,
      "outputs": [
        {
          "output_type": "execute_result",
          "data": {
            "text/plain": [
              "JAN    float64\n",
              "FEB    float64\n",
              "MAR    float64\n",
              "APR    float64\n",
              "MAY    float64\n",
              "JUN    float64\n",
              "JUL    float64\n",
              "AUG    float64\n",
              "SEP    float64\n",
              "OCT    float64\n",
              "NOV    float64\n",
              "DEC    float64\n",
              "dtype: object"
            ]
          },
          "metadata": {},
          "execution_count": 24
        }
      ]
    },
    {
      "cell_type": "markdown",
      "metadata": {
        "id": "MFpfBWSAtTN-"
      },
      "source": [
        "## Line-plot temperatures (in a single chart) and bar-plot humidity parameters "
      ]
    },
    {
      "cell_type": "code",
      "metadata": {
        "colab": {
          "base_uri": "https://localhost:8080/"
        },
        "id": "Cnhk63HN0IFL",
        "outputId": "af55708b-1178-4393-9c97-719b1bbf1e2d"
      },
      "source": [
        "df_91_20.index"
      ],
      "execution_count": 25,
      "outputs": [
        {
          "output_type": "execute_result",
          "data": {
            "text/plain": [
              "Index(['NM_T (°C)', 'NM_XT (°C)', 'NM_NT (°C)', 'NM_RR06_06 (mm)',\n",
              "       'NM_INS (hours)', 'NM_U (%)', 'NM_QFF (hPa)', 'NM_ODRR01 (days)',\n",
              "       'NM_OFOG (days)', 'NM_OCASETHSTORM (days)', 'NM_OGLAZE (days)',\n",
              "       'NM_OSNOW (days)', 'NM_OGROUNDSNOW (days)', 'NM_ODXT25 (days)',\n",
              "       'NM_ODXT30 (days)', 'NM_ODNT0 (days)', 'NM_ODXT0 (days)'],\n",
              "      dtype='object', name='Parameters')"
            ]
          },
          "metadata": {},
          "execution_count": 25
        }
      ]
    },
    {
      "cell_type": "code",
      "metadata": {
        "colab": {
          "base_uri": "https://localhost:8080/",
          "height": 335
        },
        "id": "yzD1K1Fu0JVm",
        "outputId": "f2fb5c21-77e5-455b-e165-23a7f467810d"
      },
      "source": [
        "%matplotlib inline\n",
        "import matplotlib.pyplot as plt\n",
        "plt.figure(figsize=(15,5))\n",
        "plt.plot(df_81_10.loc['NM_T (°C)'],label='df_81_10_NM_T')\n",
        "plt.plot(df_91_20.loc['NM_T (°C)'],label='df_91_20_NM_T')\n",
        "plt.plot(df_81_10.loc['NM_XT (°C)'],label='df_81_10_NM_XT')\n",
        "plt.plot(df_91_20.loc['NM_XT (°C)'],label='df_91_20_NM_XT')\n",
        "plt.plot(df_81_10.loc['NM_NT (°C)'],label='df_81_10_NM_NT')\n",
        "plt.plot(df_91_20.loc['NM_NT (°C)'],label='df_91_20_NM_NT')\n",
        "plt.legend()\n",
        "plt.xlabel('month')\n",
        "plt.ylabel('temperature')\n",
        "plt.show()"
      ],
      "execution_count": 26,
      "outputs": [
        {
          "output_type": "display_data",
          "data": {
            "image/png": "[encoded data removed]",
            "text/plain": [
              "<Figure size 1080x360 with 1 Axes>"
            ]
          },
          "metadata": {
            "needs_background": "light"
          }
        }
      ]
    },
    {
      "cell_type": "code",
      "metadata": {
        "colab": {
          "base_uri": "https://localhost:8080/",
          "height": 334
        },
        "id": "EmF1LMMc0RuI",
        "outputId": "282b9925-b377-4109-e20c-0cb962e527cf"
      },
      "source": [
        "plt.figure(figsize=(15,5))\n",
        "plt.bar(list(df_81_10.columns),list(df_81_10.loc['NM_U (%)']),width = 0.4,label='df_81_10')\n",
        "plt.bar(list(df_81_10.columns),list(df_91_20.loc['NM_U (%)']),width = 0.4,label='df_81_10',bottom =list(df_81_10.loc['NM_U (%)']))\n",
        "plt.legend()\n",
        "plt.xlabel('month')\n",
        "plt.ylabel('humidity')\n",
        "plt.show()"
      ],
      "execution_count": 27,
      "outputs": [
        {
          "output_type": "display_data",
          "data": {
            "image/png": "[encoded data removed]",
            "text/plain": [
              "<Figure size 1080x360 with 1 Axes>"
            ]
          },
          "metadata": {
            "needs_background": "light"
          }
        }
      ]
    },
    {
      "cell_type": "markdown",
      "metadata": {
        "id": "_wlV3HwruaZy"
      },
      "source": [
        "## Find quarterly (3 month wise) differences of the parameters between 81-10 vs 91-20"
      ]
    },
    {
      "cell_type": "code",
      "metadata": {
        "id": "D9DKFUfJ8W3y",
        "colab": {
          "base_uri": "https://localhost:8080/",
          "height": 601
        },
        "outputId": "8a991b5e-dbb2-4262-fe90-905c4d67e373"
      },
      "source": [
        "quarter =df_81_10[['JAN','APR','JUL','OCT']]-df_91_20[['JAN','APR','JUL','OCT']]\n",
        "quarter"
      ],
      "execution_count": 30,
      "outputs": [
        {
          "output_type": "execute_result",
          "data": {
            "text/html": [
              "<div>\n",
              "<style scoped>\n",
              "    .dataframe tbody tr th:only-of-type {\n",
              "        vertical-align: middle;\n",
              "    }\n",
              "\n",
              "    .dataframe tbody tr th {\n",
              "        vertical-align: top;\n",
              "    }\n",
              "\n",
              "    .dataframe thead th {\n",
              "        text-align: right;\n",
              "    }\n",
              "</style>\n",
              "<table border=\"1\" class=\"dataframe\">\n",
              "  <thead>\n",
              "    <tr style=\"text-align: right;\">\n",
              "      <th></th>\n",
              "      <th>JAN</th>\n",
              "      <th>APR</th>\n",
              "      <th>JUL</th>\n",
              "      <th>OCT</th>\n",
              "    </tr>\n",
              "    <tr>\n",
              "      <th>Parameters</th>\n",
              "      <th></th>\n",
              "      <th></th>\n",
              "      <th></th>\n",
              "      <th></th>\n",
              "    </tr>\n",
              "  </thead>\n",
              "  <tbody>\n",
              "    <tr>\n",
              "      <th>NM_T (°C)</th>\n",
              "      <td>-0.6</td>\n",
              "      <td>-0.9</td>\n",
              "      <td>-0.5</td>\n",
              "      <td>-0.4</td>\n",
              "    </tr>\n",
              "    <tr>\n",
              "      <th>NM_XT (°C)</th>\n",
              "      <td>-0.7</td>\n",
              "      <td>-1.1</td>\n",
              "      <td>-0.6</td>\n",
              "      <td>-0.4</td>\n",
              "    </tr>\n",
              "    <tr>\n",
              "      <th>NM_NT (°C)</th>\n",
              "      <td>-0.6</td>\n",
              "      <td>-0.7</td>\n",
              "      <td>-0.5</td>\n",
              "      <td>-0.3</td>\n",
              "    </tr>\n",
              "    <tr>\n",
              "      <th>NM_RR06_06 (mm)</th>\n",
              "      <td>5.1</td>\n",
              "      <td>8.8</td>\n",
              "      <td>-1.1</td>\n",
              "      <td>10.6</td>\n",
              "    </tr>\n",
              "    <tr>\n",
              "      <th>NM_INS (hours)</th>\n",
              "      <td>-1.7</td>\n",
              "      <td>-15.9</td>\n",
              "      <td>-7.3</td>\n",
              "      <td>-0.8</td>\n",
              "    </tr>\n",
              "    <tr>\n",
              "      <th>NM_U (%)</th>\n",
              "      <td>-1.0</td>\n",
              "      <td>1.0</td>\n",
              "      <td>0.0</td>\n",
              "      <td>-1.0</td>\n",
              "    </tr>\n",
              "    <tr>\n",
              "      <th>NM_QFF (hPa)</th>\n",
              "      <td>0.0</td>\n",
              "      <td>0.0</td>\n",
              "      <td>0.0</td>\n",
              "      <td>0.0</td>\n",
              "    </tr>\n",
              "    <tr>\n",
              "      <th>NM_ODRR01 (days)</th>\n",
              "      <td>-0.3</td>\n",
              "      <td>1.0</td>\n",
              "      <td>-0.7</td>\n",
              "      <td>0.2</td>\n",
              "    </tr>\n",
              "    <tr>\n",
              "      <th>NM_OFOG (days)</th>\n",
              "      <td>1.3</td>\n",
              "      <td>0.8</td>\n",
              "      <td>0.4</td>\n",
              "      <td>1.4</td>\n",
              "    </tr>\n",
              "    <tr>\n",
              "      <th>NM_OCASETHSTORM (days)</th>\n",
              "      <td>0.0</td>\n",
              "      <td>0.1</td>\n",
              "      <td>0.2</td>\n",
              "      <td>0.1</td>\n",
              "    </tr>\n",
              "    <tr>\n",
              "      <th>NM_OGLAZE (days)</th>\n",
              "      <td>0.5</td>\n",
              "      <td>0.0</td>\n",
              "      <td>0.0</td>\n",
              "      <td>0.0</td>\n",
              "    </tr>\n",
              "    <tr>\n",
              "      <th>NM_OSNOW (days)</th>\n",
              "      <td>1.1</td>\n",
              "      <td>0.6</td>\n",
              "      <td>0.0</td>\n",
              "      <td>NaN</td>\n",
              "    </tr>\n",
              "    <tr>\n",
              "      <th>NM_OGROUNDSNOW (days)</th>\n",
              "      <td>1.3</td>\n",
              "      <td>0.4</td>\n",
              "      <td>0.0</td>\n",
              "      <td>0.0</td>\n",
              "    </tr>\n",
              "    <tr>\n",
              "      <th>NM_ODXT25 (days)</th>\n",
              "      <td>0.0</td>\n",
              "      <td>-0.2</td>\n",
              "      <td>-1.3</td>\n",
              "      <td>-0.1</td>\n",
              "    </tr>\n",
              "    <tr>\n",
              "      <th>NM_ODXT30 (days)</th>\n",
              "      <td>0.0</td>\n",
              "      <td>0.0</td>\n",
              "      <td>-1.0</td>\n",
              "      <td>0.0</td>\n",
              "    </tr>\n",
              "    <tr>\n",
              "      <th>NM_ODNT0 (days)</th>\n",
              "      <td>1.4</td>\n",
              "      <td>0.6</td>\n",
              "      <td>0.0</td>\n",
              "      <td>0.2</td>\n",
              "    </tr>\n",
              "    <tr>\n",
              "      <th>NM_ODXT0 (days)</th>\n",
              "      <td>1.0</td>\n",
              "      <td>0.0</td>\n",
              "      <td>0.0</td>\n",
              "      <td>0.0</td>\n",
              "    </tr>\n",
              "  </tbody>\n",
              "</table>\n",
              "</div>"
            ],
            "text/plain": [
              "                        JAN   APR  JUL   OCT\n",
              "Parameters                                  \n",
              "NM_T (°C)              -0.6  -0.9 -0.5  -0.4\n",
              "NM_XT (°C)             -0.7  -1.1 -0.6  -0.4\n",
              "NM_NT (°C)             -0.6  -0.7 -0.5  -0.3\n",
              "NM_RR06_06 (mm)         5.1   8.8 -1.1  10.6\n",
              "NM_INS (hours)         -1.7 -15.9 -7.3  -0.8\n",
              "NM_U (%)               -1.0   1.0  0.0  -1.0\n",
              "NM_QFF (hPa)            0.0   0.0  0.0   0.0\n",
              "NM_ODRR01 (days)       -0.3   1.0 -0.7   0.2\n",
              "NM_OFOG (days)          1.3   0.8  0.4   1.4\n",
              "NM_OCASETHSTORM (days)  0.0   0.1  0.2   0.1\n",
              "NM_OGLAZE (days)        0.5   0.0  0.0   0.0\n",
              "NM_OSNOW (days)         1.1   0.6  0.0   NaN\n",
              "NM_OGROUNDSNOW (days)   1.3   0.4  0.0   0.0\n",
              "NM_ODXT25 (days)        0.0  -0.2 -1.3  -0.1\n",
              "NM_ODXT30 (days)        0.0   0.0 -1.0   0.0\n",
              "NM_ODNT0 (days)         1.4   0.6  0.0   0.2\n",
              "NM_ODXT0 (days)         1.0   0.0  0.0   0.0"
            ]
          },
          "metadata": {},
          "execution_count": 30
        }
      ]
    },
    {
      "cell_type": "markdown",
      "metadata": {
        "id": "06F2nceG64ve"
      },
      "source": [
        "## Write codes to check the following statements if they are True or False"
      ]
    },
    {
      "cell_type": "markdown",
      "metadata": {
        "id": "ksaGY7747cQF"
      },
      "source": [
        "### Quarterly mean temperature is not affected by climate change"
      ]
    },
    {
      "cell_type": "code",
      "metadata": {
        "id": "FqO859KP8YGl",
        "colab": {
          "base_uri": "https://localhost:8080/",
          "height": 171
        },
        "outputId": "5cb9cf7b-90ca-4af3-e90f-fa0e745570ee"
      },
      "source": [
        "quarter.loc[['NM_T (°C)', 'NM_XT (°C)', 'NM_NT (°C)']]>0"
      ],
      "execution_count": 31,
      "outputs": [
        {
          "output_type": "execute_result",
          "data": {
            "text/html": [
              "<div>\n",
              "<style scoped>\n",
              "    .dataframe tbody tr th:only-of-type {\n",
              "        vertical-align: middle;\n",
              "    }\n",
              "\n",
              "    .dataframe tbody tr th {\n",
              "        vertical-align: top;\n",
              "    }\n",
              "\n",
              "    .dataframe thead th {\n",
              "        text-align: right;\n",
              "    }\n",
              "</style>\n",
              "<table border=\"1\" class=\"dataframe\">\n",
              "  <thead>\n",
              "    <tr style=\"text-align: right;\">\n",
              "      <th></th>\n",
              "      <th>JAN</th>\n",
              "      <th>APR</th>\n",
              "      <th>JUL</th>\n",
              "      <th>OCT</th>\n",
              "    </tr>\n",
              "    <tr>\n",
              "      <th>Parameters</th>\n",
              "      <th></th>\n",
              "      <th></th>\n",
              "      <th></th>\n",
              "      <th></th>\n",
              "    </tr>\n",
              "  </thead>\n",
              "  <tbody>\n",
              "    <tr>\n",
              "      <th>NM_T (°C)</th>\n",
              "      <td>False</td>\n",
              "      <td>False</td>\n",
              "      <td>False</td>\n",
              "      <td>False</td>\n",
              "    </tr>\n",
              "    <tr>\n",
              "      <th>NM_XT (°C)</th>\n",
              "      <td>False</td>\n",
              "      <td>False</td>\n",
              "      <td>False</td>\n",
              "      <td>False</td>\n",
              "    </tr>\n",
              "    <tr>\n",
              "      <th>NM_NT (°C)</th>\n",
              "      <td>False</td>\n",
              "      <td>False</td>\n",
              "      <td>False</td>\n",
              "      <td>False</td>\n",
              "    </tr>\n",
              "  </tbody>\n",
              "</table>\n",
              "</div>"
            ],
            "text/plain": [
              "              JAN    APR    JUL    OCT\n",
              "Parameters                            \n",
              "NM_T (°C)   False  False  False  False\n",
              "NM_XT (°C)  False  False  False  False\n",
              "NM_NT (°C)  False  False  False  False"
            ]
          },
          "metadata": {},
          "execution_count": 31
        }
      ]
    },
    {
      "cell_type": "code",
      "metadata": {
        "colab": {
          "base_uri": "https://localhost:8080/"
        },
        "id": "YZ9chq3a3UGm",
        "outputId": "a19f9e94-b318-4b3d-ef16-c739fff72ab8"
      },
      "source": [
        "df_91_20.loc['NM_OFOG (days)']"
      ],
      "execution_count": 33,
      "outputs": [
        {
          "output_type": "execute_result",
          "data": {
            "text/plain": [
              "JAN    10.2\n",
              "FEB     7.1\n",
              "MAR     4.3\n",
              "APR     1.8\n",
              "MAY     1.6\n",
              "JUN     1.3\n",
              "JUL     1.2\n",
              "AUG     1.8\n",
              "SEP     3.7\n",
              "OCT     7.7\n",
              "NOV    10.8\n",
              "DEC    11.3\n",
              "Name: NM_OFOG (days), dtype: float64"
            ]
          },
          "metadata": {},
          "execution_count": 33
        }
      ]
    },
    {
      "cell_type": "markdown",
      "metadata": {
        "id": "iru1cLTO75Xx"
      },
      "source": [
        "### Fog is decreasing in the winter months (Dec-Mar) between decades"
      ]
    },
    {
      "cell_type": "code",
      "metadata": {
        "id": "L4ZFmVLV8YxX",
        "colab": {
          "base_uri": "https://localhost:8080/"
        },
        "outputId": "702b9fe9-a5c1-474f-fbda-d6dd023f2340"
      },
      "source": [
        "df_81_10.loc['NM_OFOG (days)']"
      ],
      "execution_count": 34,
      "outputs": [
        {
          "output_type": "execute_result",
          "data": {
            "text/plain": [
              "JAN    11.5\n",
              "FEB     7.4\n",
              "MAR     4.8\n",
              "APR     2.6\n",
              "MAY     3.0\n",
              "JUN     2.1\n",
              "JUL     1.6\n",
              "AUG     2.6\n",
              "SEP     4.4\n",
              "OCT     9.1\n",
              "NOV    11.3\n",
              "DEC    12.1\n",
              "Name: NM_OFOG (days), dtype: float64"
            ]
          },
          "metadata": {},
          "execution_count": 34
        }
      ]
    },
    {
      "cell_type": "code",
      "metadata": {
        "colab": {
          "base_uri": "https://localhost:8080/"
        },
        "id": "ztMhF1EB3bra",
        "outputId": "35d7d400-3147-410d-d210-13834c27be4c"
      },
      "source": [
        "df_91_20.loc['NM_OFOG (days)']"
      ],
      "execution_count": 35,
      "outputs": [
        {
          "output_type": "execute_result",
          "data": {
            "text/plain": [
              "JAN    10.2\n",
              "FEB     7.1\n",
              "MAR     4.3\n",
              "APR     1.8\n",
              "MAY     1.6\n",
              "JUN     1.3\n",
              "JUL     1.2\n",
              "AUG     1.8\n",
              "SEP     3.7\n",
              "OCT     7.7\n",
              "NOV    10.8\n",
              "DEC    11.3\n",
              "Name: NM_OFOG (days), dtype: float64"
            ]
          },
          "metadata": {},
          "execution_count": 35
        }
      ]
    },
    {
      "cell_type": "markdown",
      "metadata": {
        "id": "LhRa7GVI8nM2"
      },
      "source": [
        "### Precipitation (rain) pattern is changing between decades"
      ]
    },
    {
      "cell_type": "code",
      "metadata": {
        "id": "yWyXlceM8mU0",
        "colab": {
          "base_uri": "https://localhost:8080/",
          "height": 334
        },
        "outputId": "3f00b907-cdda-4780-f70e-8f0958808760"
      },
      "source": [
        "%matplotlib inline\n",
        "import matplotlib.pyplot as plt\n",
        "plt.figure(figsize=(15,5))\n",
        "plt.plot(df_81_10.loc['NM_OGLAZE (days)'],label='df_81_10')\n",
        "plt.plot(df_91_20.loc['NM_OGLAZE (days)'],label='df_91_20')\n",
        "\n",
        "plt.legend()\n",
        "plt.xlabel('month')\n",
        "plt.ylabel('Precipitation (rain) ')\n",
        "plt.show()\n"
      ],
      "execution_count": 36,
      "outputs": [
        {
          "output_type": "display_data",
          "data": {
            "image/png": "[encoded data removed]",
            "text/plain": [
              "<Figure size 1080x360 with 1 Axes>"
            ]
          },
          "metadata": {
            "needs_background": "light"
          }
        }
      ]
    },
    {
      "cell_type": "markdown",
      "metadata": {
        "id": "ramUaK71vuP3"
      },
      "source": [
        "## Find out the three most changed parameters and three least changed parameters in the quarterly (3 month wise) differences"
      ]
    },
    {
      "cell_type": "markdown",
      "metadata": {
        "id": "ZowuBFq9FObT"
      },
      "source": [
        ""
      ]
    },
    {
      "cell_type": "code",
      "metadata": {
        "id": "FMYJU92y-dzO",
        "colab": {
          "base_uri": "https://localhost:8080/"
        },
        "outputId": "ee29ba54-c0d4-4198-b184-7758f9c81775"
      },
      "source": [
        "least_changed=quarter.sum(axis=1).sort_values().head(3)\n",
        "least_changed\n",
        "\n"
      ],
      "execution_count": 37,
      "outputs": [
        {
          "output_type": "execute_result",
          "data": {
            "text/plain": [
              "Parameters\n",
              "NM_INS (hours)   -25.7\n",
              "NM_XT (°C)        -2.8\n",
              "NM_T (°C)         -2.4\n",
              "dtype: float64"
            ]
          },
          "metadata": {},
          "execution_count": 37
        }
      ]
    },
    {
      "cell_type": "code",
      "metadata": {
        "colab": {
          "base_uri": "https://localhost:8080/"
        },
        "id": "zIqpehr_3wZp",
        "outputId": "2d33544a-9296-499a-db10-a3e24aeedd95"
      },
      "source": [
        "most_changed=quarter.sum(axis=1).sort_values(ascending=False).head(3)\n",
        "most_changed"
      ],
      "execution_count": 38,
      "outputs": [
        {
          "output_type": "execute_result",
          "data": {
            "text/plain": [
              "Parameters\n",
              "NM_RR06_06 (mm)    23.4\n",
              "NM_OFOG (days)      3.9\n",
              "NM_ODNT0 (days)     2.2\n",
              "dtype: float64"
            ]
          },
          "metadata": {},
          "execution_count": 38
        }
      ]
    },
    {
      "cell_type": "markdown",
      "metadata": {
        "id": "br7NZav7FObV"
      },
      "source": [
        ""
      ]
    },
    {
      "cell_type": "markdown",
      "metadata": {
        "id": "O0gkBSih-VnI"
      },
      "source": [
        "## Is there any correlation between the most changed parameters?"
      ]
    },
    {
      "cell_type": "code",
      "metadata": {
        "id": "Sj_bQa6F-eoW",
        "colab": {
          "base_uri": "https://localhost:8080/",
          "height": 416
        },
        "outputId": "92ddfe23-871a-49b7-d64c-cc98b77515f3"
      },
      "source": [
        "df_81_10.loc[['NM_RR06_06 (mm)','NM_OFOG (days)','NM_ODNT0 (days)']].corr()"
      ],
      "execution_count": 39,
      "outputs": [
        {
          "output_type": "execute_result",
          "data": {
            "text/html": [
              "<div>\n",
              "<style scoped>\n",
              "    .dataframe tbody tr th:only-of-type {\n",
              "        vertical-align: middle;\n",
              "    }\n",
              "\n",
              "    .dataframe tbody tr th {\n",
              "        vertical-align: top;\n",
              "    }\n",
              "\n",
              "    .dataframe thead th {\n",
              "        text-align: right;\n",
              "    }\n",
              "</style>\n",
              "<table border=\"1\" class=\"dataframe\">\n",
              "  <thead>\n",
              "    <tr style=\"text-align: right;\">\n",
              "      <th></th>\n",
              "      <th>JAN</th>\n",
              "      <th>FEB</th>\n",
              "      <th>MAR</th>\n",
              "      <th>APR</th>\n",
              "      <th>MAY</th>\n",
              "      <th>JUN</th>\n",
              "      <th>JUL</th>\n",
              "      <th>AUG</th>\n",
              "      <th>SEP</th>\n",
              "      <th>OCT</th>\n",
              "      <th>NOV</th>\n",
              "      <th>DEC</th>\n",
              "    </tr>\n",
              "  </thead>\n",
              "  <tbody>\n",
              "    <tr>\n",
              "      <th>JAN</th>\n",
              "      <td>1.000000</td>\n",
              "      <td>0.998337</td>\n",
              "      <td>0.999645</td>\n",
              "      <td>0.996051</td>\n",
              "      <td>0.991847</td>\n",
              "      <td>0.993020</td>\n",
              "      <td>0.993407</td>\n",
              "      <td>0.992131</td>\n",
              "      <td>0.989283</td>\n",
              "      <td>0.984421</td>\n",
              "      <td>0.991324</td>\n",
              "      <td>0.999094</td>\n",
              "    </tr>\n",
              "    <tr>\n",
              "      <th>FEB</th>\n",
              "      <td>0.998337</td>\n",
              "      <td>1.000000</td>\n",
              "      <td>0.996446</td>\n",
              "      <td>0.989276</td>\n",
              "      <td>0.982851</td>\n",
              "      <td>0.984570</td>\n",
              "      <td>0.985147</td>\n",
              "      <td>0.983263</td>\n",
              "      <td>0.979221</td>\n",
              "      <td>0.972648</td>\n",
              "      <td>0.982098</td>\n",
              "      <td>0.994979</td>\n",
              "    </tr>\n",
              "    <tr>\n",
              "      <th>MAR</th>\n",
              "      <td>0.999645</td>\n",
              "      <td>0.996446</td>\n",
              "      <td>1.000000</td>\n",
              "      <td>0.998063</td>\n",
              "      <td>0.994891</td>\n",
              "      <td>0.995811</td>\n",
              "      <td>0.996110</td>\n",
              "      <td>0.995115</td>\n",
              "      <td>0.992823</td>\n",
              "      <td>0.988757</td>\n",
              "      <td>0.994475</td>\n",
              "      <td>0.999873</td>\n",
              "    </tr>\n",
              "    <tr>\n",
              "      <th>APR</th>\n",
              "      <td>0.996051</td>\n",
              "      <td>0.989276</td>\n",
              "      <td>0.998063</td>\n",
              "      <td>1.000000</td>\n",
              "      <td>0.999244</td>\n",
              "      <td>0.999570</td>\n",
              "      <td>0.999662</td>\n",
              "      <td>0.999329</td>\n",
              "      <td>0.998340</td>\n",
              "      <td>0.996144</td>\n",
              "      <td>0.999079</td>\n",
              "      <td>0.998927</td>\n",
              "    </tr>\n",
              "    <tr>\n",
              "      <th>MAY</th>\n",
              "      <td>0.991847</td>\n",
              "      <td>0.982851</td>\n",
              "      <td>0.994891</td>\n",
              "      <td>0.999244</td>\n",
              "      <td>1.000000</td>\n",
              "      <td>0.999954</td>\n",
              "      <td>0.999917</td>\n",
              "      <td>0.999997</td>\n",
              "      <td>0.999824</td>\n",
              "      <td>0.998802</td>\n",
              "      <td>0.999992</td>\n",
              "      <td>0.996372</td>\n",
              "    </tr>\n",
              "    <tr>\n",
              "      <th>JUN</th>\n",
              "      <td>0.993020</td>\n",
              "      <td>0.984570</td>\n",
              "      <td>0.995811</td>\n",
              "      <td>0.999570</td>\n",
              "      <td>0.999954</td>\n",
              "      <td>1.000000</td>\n",
              "      <td>0.999994</td>\n",
              "      <td>0.999973</td>\n",
              "      <td>0.999599</td>\n",
              "      <td>0.998288</td>\n",
              "      <td>0.999907</td>\n",
              "      <td>0.997140</td>\n",
              "    </tr>\n",
              "    <tr>\n",
              "      <th>JUL</th>\n",
              "      <td>0.993407</td>\n",
              "      <td>0.985147</td>\n",
              "      <td>0.996110</td>\n",
              "      <td>0.999662</td>\n",
              "      <td>0.999917</td>\n",
              "      <td>0.999994</td>\n",
              "      <td>1.000000</td>\n",
              "      <td>0.999943</td>\n",
              "      <td>0.999499</td>\n",
              "      <td>0.998088</td>\n",
              "      <td>0.999857</td>\n",
              "      <td>0.997386</td>\n",
              "    </tr>\n",
              "    <tr>\n",
              "      <th>AUG</th>\n",
              "      <td>0.992131</td>\n",
              "      <td>0.983263</td>\n",
              "      <td>0.995115</td>\n",
              "      <td>0.999329</td>\n",
              "      <td>0.999997</td>\n",
              "      <td>0.999973</td>\n",
              "      <td>0.999943</td>\n",
              "      <td>1.000000</td>\n",
              "      <td>0.999779</td>\n",
              "      <td>0.998689</td>\n",
              "      <td>0.999980</td>\n",
              "      <td>0.996561</td>\n",
              "    </tr>\n",
              "    <tr>\n",
              "      <th>SEP</th>\n",
              "      <td>0.989283</td>\n",
              "      <td>0.979221</td>\n",
              "      <td>0.992823</td>\n",
              "      <td>0.998340</td>\n",
              "      <td>0.999824</td>\n",
              "      <td>0.999599</td>\n",
              "      <td>0.999499</td>\n",
              "      <td>0.999779</td>\n",
              "      <td>1.000000</td>\n",
              "      <td>0.999544</td>\n",
              "      <td>0.999892</td>\n",
              "      <td>0.994601</td>\n",
              "    </tr>\n",
              "    <tr>\n",
              "      <th>OCT</th>\n",
              "      <td>0.984421</td>\n",
              "      <td>0.972648</td>\n",
              "      <td>0.988757</td>\n",
              "      <td>0.996144</td>\n",
              "      <td>0.998802</td>\n",
              "      <td>0.998288</td>\n",
              "      <td>0.998088</td>\n",
              "      <td>0.998689</td>\n",
              "      <td>0.999544</td>\n",
              "      <td>1.000000</td>\n",
              "      <td>0.998991</td>\n",
              "      <td>0.991012</td>\n",
              "    </tr>\n",
              "    <tr>\n",
              "      <th>NOV</th>\n",
              "      <td>0.991324</td>\n",
              "      <td>0.982098</td>\n",
              "      <td>0.994475</td>\n",
              "      <td>0.999079</td>\n",
              "      <td>0.999992</td>\n",
              "      <td>0.999907</td>\n",
              "      <td>0.999857</td>\n",
              "      <td>0.999980</td>\n",
              "      <td>0.999892</td>\n",
              "      <td>0.998991</td>\n",
              "      <td>1.000000</td>\n",
              "      <td>0.996020</td>\n",
              "    </tr>\n",
              "    <tr>\n",
              "      <th>DEC</th>\n",
              "      <td>0.999094</td>\n",
              "      <td>0.994979</td>\n",
              "      <td>0.999873</td>\n",
              "      <td>0.998927</td>\n",
              "      <td>0.996372</td>\n",
              "      <td>0.997140</td>\n",
              "      <td>0.997386</td>\n",
              "      <td>0.996561</td>\n",
              "      <td>0.994601</td>\n",
              "      <td>0.991012</td>\n",
              "      <td>0.996020</td>\n",
              "      <td>1.000000</td>\n",
              "    </tr>\n",
              "  </tbody>\n",
              "</table>\n",
              "</div>"
            ],
            "text/plain": [
              "          JAN       FEB       MAR  ...       OCT       NOV       DEC\n",
              "JAN  1.000000  0.998337  0.999645  ...  0.984421  0.991324  0.999094\n",
              "FEB  0.998337  1.000000  0.996446  ...  0.972648  0.982098  0.994979\n",
              "MAR  0.999645  0.996446  1.000000  ...  0.988757  0.994475  0.999873\n",
              "APR  0.996051  0.989276  0.998063  ...  0.996144  0.999079  0.998927\n",
              "MAY  0.991847  0.982851  0.994891  ...  0.998802  0.999992  0.996372\n",
              "JUN  0.993020  0.984570  0.995811  ...  0.998288  0.999907  0.997140\n",
              "JUL  0.993407  0.985147  0.996110  ...  0.998088  0.999857  0.997386\n",
              "AUG  0.992131  0.983263  0.995115  ...  0.998689  0.999980  0.996561\n",
              "SEP  0.989283  0.979221  0.992823  ...  0.999544  0.999892  0.994601\n",
              "OCT  0.984421  0.972648  0.988757  ...  1.000000  0.998991  0.991012\n",
              "NOV  0.991324  0.982098  0.994475  ...  0.998991  1.000000  0.996020\n",
              "DEC  0.999094  0.994979  0.999873  ...  0.991012  0.996020  1.000000\n",
              "\n",
              "[12 rows x 12 columns]"
            ]
          },
          "metadata": {},
          "execution_count": 39
        }
      ]
    },
    {
      "cell_type": "code",
      "metadata": {
        "colab": {
          "base_uri": "https://localhost:8080/",
          "height": 416
        },
        "id": "Gc3c9TRg4Gem",
        "outputId": "bd403e00-83b3-4760-afa5-0323fb60614c"
      },
      "source": [
        "df_91_20.loc[['NM_RR06_06 (mm)','NM_OFOG (days)','NM_ODNT0 (days)']].corr()"
      ],
      "execution_count": 40,
      "outputs": [
        {
          "output_type": "execute_result",
          "data": {
            "text/html": [
              "<div>\n",
              "<style scoped>\n",
              "    .dataframe tbody tr th:only-of-type {\n",
              "        vertical-align: middle;\n",
              "    }\n",
              "\n",
              "    .dataframe tbody tr th {\n",
              "        vertical-align: top;\n",
              "    }\n",
              "\n",
              "    .dataframe thead th {\n",
              "        text-align: right;\n",
              "    }\n",
              "</style>\n",
              "<table border=\"1\" class=\"dataframe\">\n",
              "  <thead>\n",
              "    <tr style=\"text-align: right;\">\n",
              "      <th></th>\n",
              "      <th>JAN</th>\n",
              "      <th>FEB</th>\n",
              "      <th>MAR</th>\n",
              "      <th>APR</th>\n",
              "      <th>MAY</th>\n",
              "      <th>JUN</th>\n",
              "      <th>JUL</th>\n",
              "      <th>AUG</th>\n",
              "      <th>SEP</th>\n",
              "      <th>OCT</th>\n",
              "      <th>NOV</th>\n",
              "      <th>DEC</th>\n",
              "    </tr>\n",
              "  </thead>\n",
              "  <tbody>\n",
              "    <tr>\n",
              "      <th>JAN</th>\n",
              "      <td>1.000000</td>\n",
              "      <td>0.999394</td>\n",
              "      <td>0.999402</td>\n",
              "      <td>0.996059</td>\n",
              "      <td>0.992939</td>\n",
              "      <td>0.993354</td>\n",
              "      <td>0.993472</td>\n",
              "      <td>0.992598</td>\n",
              "      <td>0.988884</td>\n",
              "      <td>0.984184</td>\n",
              "      <td>0.987628</td>\n",
              "      <td>0.997976</td>\n",
              "    </tr>\n",
              "    <tr>\n",
              "      <th>FEB</th>\n",
              "      <td>0.999394</td>\n",
              "      <td>1.000000</td>\n",
              "      <td>0.997592</td>\n",
              "      <td>0.992368</td>\n",
              "      <td>0.988209</td>\n",
              "      <td>0.988746</td>\n",
              "      <td>0.988899</td>\n",
              "      <td>0.987769</td>\n",
              "      <td>0.983110</td>\n",
              "      <td>0.977421</td>\n",
              "      <td>0.981571</td>\n",
              "      <td>0.995158</td>\n",
              "    </tr>\n",
              "    <tr>\n",
              "      <th>MAR</th>\n",
              "      <td>0.999402</td>\n",
              "      <td>0.997592</td>\n",
              "      <td>1.000000</td>\n",
              "      <td>0.998531</td>\n",
              "      <td>0.996448</td>\n",
              "      <td>0.996740</td>\n",
              "      <td>0.996823</td>\n",
              "      <td>0.996204</td>\n",
              "      <td>0.993435</td>\n",
              "      <td>0.989722</td>\n",
              "      <td>0.992460</td>\n",
              "      <td>0.999578</td>\n",
              "    </tr>\n",
              "    <tr>\n",
              "      <th>APR</th>\n",
              "      <td>0.996059</td>\n",
              "      <td>0.992368</td>\n",
              "      <td>0.998531</td>\n",
              "      <td>1.000000</td>\n",
              "      <td>0.999547</td>\n",
              "      <td>0.999648</td>\n",
              "      <td>0.999674</td>\n",
              "      <td>0.999458</td>\n",
              "      <td>0.998175</td>\n",
              "      <td>0.996017</td>\n",
              "      <td>0.997644</td>\n",
              "      <td>0.999683</td>\n",
              "    </tr>\n",
              "    <tr>\n",
              "      <th>MAY</th>\n",
              "      <td>0.992939</td>\n",
              "      <td>0.988209</td>\n",
              "      <td>0.996448</td>\n",
              "      <td>0.999547</td>\n",
              "      <td>1.000000</td>\n",
              "      <td>0.999994</td>\n",
              "      <td>0.999990</td>\n",
              "      <td>0.999996</td>\n",
              "      <td>0.999540</td>\n",
              "      <td>0.998249</td>\n",
              "      <td>0.999257</td>\n",
              "      <td>0.998473</td>\n",
              "    </tr>\n",
              "    <tr>\n",
              "      <th>JUN</th>\n",
              "      <td>0.993354</td>\n",
              "      <td>0.988746</td>\n",
              "      <td>0.996740</td>\n",
              "      <td>0.999648</td>\n",
              "      <td>0.999994</td>\n",
              "      <td>1.000000</td>\n",
              "      <td>0.999999</td>\n",
              "      <td>0.999980</td>\n",
              "      <td>0.999426</td>\n",
              "      <td>0.998033</td>\n",
              "      <td>0.999113</td>\n",
              "      <td>0.998663</td>\n",
              "    </tr>\n",
              "    <tr>\n",
              "      <th>JUL</th>\n",
              "      <td>0.993472</td>\n",
              "      <td>0.988899</td>\n",
              "      <td>0.996823</td>\n",
              "      <td>0.999674</td>\n",
              "      <td>0.999990</td>\n",
              "      <td>0.999999</td>\n",
              "      <td>1.000000</td>\n",
              "      <td>0.999972</td>\n",
              "      <td>0.999391</td>\n",
              "      <td>0.997968</td>\n",
              "      <td>0.999070</td>\n",
              "      <td>0.998715</td>\n",
              "    </tr>\n",
              "    <tr>\n",
              "      <th>AUG</th>\n",
              "      <td>0.992598</td>\n",
              "      <td>0.987769</td>\n",
              "      <td>0.996204</td>\n",
              "      <td>0.999458</td>\n",
              "      <td>0.999996</td>\n",
              "      <td>0.999980</td>\n",
              "      <td>0.999972</td>\n",
              "      <td>1.000000</td>\n",
              "      <td>0.999622</td>\n",
              "      <td>0.998413</td>\n",
              "      <td>0.999362</td>\n",
              "      <td>0.998312</td>\n",
              "    </tr>\n",
              "    <tr>\n",
              "      <th>SEP</th>\n",
              "      <td>0.988884</td>\n",
              "      <td>0.983110</td>\n",
              "      <td>0.993435</td>\n",
              "      <td>0.998175</td>\n",
              "      <td>0.999540</td>\n",
              "      <td>0.999426</td>\n",
              "      <td>0.999391</td>\n",
              "      <td>0.999622</td>\n",
              "      <td>1.000000</td>\n",
              "      <td>0.999584</td>\n",
              "      <td>0.999966</td>\n",
              "      <td>0.996338</td>\n",
              "    </tr>\n",
              "    <tr>\n",
              "      <th>OCT</th>\n",
              "      <td>0.984184</td>\n",
              "      <td>0.977421</td>\n",
              "      <td>0.989722</td>\n",
              "      <td>0.996017</td>\n",
              "      <td>0.998249</td>\n",
              "      <td>0.998033</td>\n",
              "      <td>0.997968</td>\n",
              "      <td>0.998413</td>\n",
              "      <td>0.999584</td>\n",
              "      <td>1.000000</td>\n",
              "      <td>0.999787</td>\n",
              "      <td>0.993457</td>\n",
              "    </tr>\n",
              "    <tr>\n",
              "      <th>NOV</th>\n",
              "      <td>0.987628</td>\n",
              "      <td>0.981571</td>\n",
              "      <td>0.992460</td>\n",
              "      <td>0.997644</td>\n",
              "      <td>0.999257</td>\n",
              "      <td>0.999113</td>\n",
              "      <td>0.999070</td>\n",
              "      <td>0.999362</td>\n",
              "      <td>0.999966</td>\n",
              "      <td>0.999787</td>\n",
              "      <td>1.000000</td>\n",
              "      <td>0.995601</td>\n",
              "    </tr>\n",
              "    <tr>\n",
              "      <th>DEC</th>\n",
              "      <td>0.997976</td>\n",
              "      <td>0.995158</td>\n",
              "      <td>0.999578</td>\n",
              "      <td>0.999683</td>\n",
              "      <td>0.998473</td>\n",
              "      <td>0.998663</td>\n",
              "      <td>0.998715</td>\n",
              "      <td>0.998312</td>\n",
              "      <td>0.996338</td>\n",
              "      <td>0.993457</td>\n",
              "      <td>0.995601</td>\n",
              "      <td>1.000000</td>\n",
              "    </tr>\n",
              "  </tbody>\n",
              "</table>\n",
              "</div>"
            ],
            "text/plain": [
              "          JAN       FEB       MAR  ...       OCT       NOV       DEC\n",
              "JAN  1.000000  0.999394  0.999402  ...  0.984184  0.987628  0.997976\n",
              "FEB  0.999394  1.000000  0.997592  ...  0.977421  0.981571  0.995158\n",
              "MAR  0.999402  0.997592  1.000000  ...  0.989722  0.992460  0.999578\n",
              "APR  0.996059  0.992368  0.998531  ...  0.996017  0.997644  0.999683\n",
              "MAY  0.992939  0.988209  0.996448  ...  0.998249  0.999257  0.998473\n",
              "JUN  0.993354  0.988746  0.996740  ...  0.998033  0.999113  0.998663\n",
              "JUL  0.993472  0.988899  0.996823  ...  0.997968  0.999070  0.998715\n",
              "AUG  0.992598  0.987769  0.996204  ...  0.998413  0.999362  0.998312\n",
              "SEP  0.988884  0.983110  0.993435  ...  0.999584  0.999966  0.996338\n",
              "OCT  0.984184  0.977421  0.989722  ...  1.000000  0.999787  0.993457\n",
              "NOV  0.987628  0.981571  0.992460  ...  0.999787  1.000000  0.995601\n",
              "DEC  0.997976  0.995158  0.999578  ...  0.993457  0.995601  1.000000\n",
              "\n",
              "[12 rows x 12 columns]"
            ]
          },
          "metadata": {},
          "execution_count": 40
        }
      ]
    },
    {
      "cell_type": "markdown",
      "metadata": {
        "id": "2_XttcdvwItw"
      },
      "source": [
        "## Create a common dataframe (df_temp_81_20) with only month-wise mean temperature and precipitation taken from both 81-10 vs 91-20 dataframes, now the month will be the row-index. \n",
        "\n"
      ]
    },
    {
      "cell_type": "code",
      "metadata": {
        "id": "r_T-jn61-gA4",
        "colab": {
          "base_uri": "https://localhost:8080/",
          "height": 416
        },
        "outputId": "2df26ee8-61fd-4f9e-980b-b4da2990a446"
      },
      "source": [
        "df_81_20=pd.DataFrame()\n",
        "df_81_20['81_10 NM_T (°C)']=df_81_10.loc['NM_T (°C)']\n",
        "df_81_20['91_20 NM_T (°C)']=df_91_20.loc['NM_T (°C)']\n",
        "df_81_20['91_20 NM_OGLAZE (days)']=df_91_20.loc['NM_OGLAZE (days)']\n",
        "df_81_20['81_10 NM_OGLAZE (days)']=df_81_10.loc['NM_OGLAZE (days)']\n",
        "# df_81_20=pd.concat([a,b,c,d],axis=1)\n",
        "df_81_20"
      ],
      "execution_count": 41,
      "outputs": [
        {
          "output_type": "execute_result",
          "data": {
            "text/html": [
              "<div>\n",
              "<style scoped>\n",
              "    .dataframe tbody tr th:only-of-type {\n",
              "        vertical-align: middle;\n",
              "    }\n",
              "\n",
              "    .dataframe tbody tr th {\n",
              "        vertical-align: top;\n",
              "    }\n",
              "\n",
              "    .dataframe thead th {\n",
              "        text-align: right;\n",
              "    }\n",
              "</style>\n",
              "<table border=\"1\" class=\"dataframe\">\n",
              "  <thead>\n",
              "    <tr style=\"text-align: right;\">\n",
              "      <th></th>\n",
              "      <th>81_10 NM_T (°C)</th>\n",
              "      <th>91_20 NM_T (°C)</th>\n",
              "      <th>91_20 NM_OGLAZE (days)</th>\n",
              "      <th>81_10 NM_OGLAZE (days)</th>\n",
              "    </tr>\n",
              "  </thead>\n",
              "  <tbody>\n",
              "    <tr>\n",
              "      <th>JAN</th>\n",
              "      <td>0.8</td>\n",
              "      <td>1.4</td>\n",
              "      <td>1.3</td>\n",
              "      <td>1.8</td>\n",
              "    </tr>\n",
              "    <tr>\n",
              "      <th>FEB</th>\n",
              "      <td>1.6</td>\n",
              "      <td>2.2</td>\n",
              "      <td>0.4</td>\n",
              "      <td>0.5</td>\n",
              "    </tr>\n",
              "    <tr>\n",
              "      <th>MAR</th>\n",
              "      <td>5.2</td>\n",
              "      <td>5.7</td>\n",
              "      <td>0.1</td>\n",
              "      <td>0.0</td>\n",
              "    </tr>\n",
              "    <tr>\n",
              "      <th>APR</th>\n",
              "      <td>8.7</td>\n",
              "      <td>9.6</td>\n",
              "      <td>0.0</td>\n",
              "      <td>0.0</td>\n",
              "    </tr>\n",
              "    <tr>\n",
              "      <th>MAY</th>\n",
              "      <td>13.0</td>\n",
              "      <td>13.5</td>\n",
              "      <td>0.0</td>\n",
              "      <td>0.0</td>\n",
              "    </tr>\n",
              "    <tr>\n",
              "      <th>JUN</th>\n",
              "      <td>15.9</td>\n",
              "      <td>16.7</td>\n",
              "      <td>0.0</td>\n",
              "      <td>0.0</td>\n",
              "    </tr>\n",
              "    <tr>\n",
              "      <th>JUL</th>\n",
              "      <td>18.2</td>\n",
              "      <td>18.7</td>\n",
              "      <td>0.0</td>\n",
              "      <td>0.0</td>\n",
              "    </tr>\n",
              "    <tr>\n",
              "      <th>AUG</th>\n",
              "      <td>17.7</td>\n",
              "      <td>18.4</td>\n",
              "      <td>0.0</td>\n",
              "      <td>0.0</td>\n",
              "    </tr>\n",
              "    <tr>\n",
              "      <th>SEP</th>\n",
              "      <td>13.9</td>\n",
              "      <td>14.3</td>\n",
              "      <td>0.0</td>\n",
              "      <td>0.0</td>\n",
              "    </tr>\n",
              "    <tr>\n",
              "      <th>OCT</th>\n",
              "      <td>9.5</td>\n",
              "      <td>9.9</td>\n",
              "      <td>0.0</td>\n",
              "      <td>0.0</td>\n",
              "    </tr>\n",
              "    <tr>\n",
              "      <th>NOV</th>\n",
              "      <td>4.7</td>\n",
              "      <td>5.2</td>\n",
              "      <td>0.2</td>\n",
              "      <td>0.2</td>\n",
              "    </tr>\n",
              "    <tr>\n",
              "      <th>DEC</th>\n",
              "      <td>1.8</td>\n",
              "      <td>2.3</td>\n",
              "      <td>1.4</td>\n",
              "      <td>1.9</td>\n",
              "    </tr>\n",
              "  </tbody>\n",
              "</table>\n",
              "</div>"
            ],
            "text/plain": [
              "     81_10 NM_T (°C)  ...  81_10 NM_OGLAZE (days)\n",
              "JAN              0.8  ...                     1.8\n",
              "FEB              1.6  ...                     0.5\n",
              "MAR              5.2  ...                     0.0\n",
              "APR              8.7  ...                     0.0\n",
              "MAY             13.0  ...                     0.0\n",
              "JUN             15.9  ...                     0.0\n",
              "JUL             18.2  ...                     0.0\n",
              "AUG             17.7  ...                     0.0\n",
              "SEP             13.9  ...                     0.0\n",
              "OCT              9.5  ...                     0.0\n",
              "NOV              4.7  ...                     0.2\n",
              "DEC              1.8  ...                     1.9\n",
              "\n",
              "[12 rows x 4 columns]"
            ]
          },
          "metadata": {},
          "execution_count": 41
        }
      ]
    },
    {
      "cell_type": "markdown",
      "metadata": {
        "id": "dva-uyBO37GU"
      },
      "source": [
        "## Create a visualisation where the monthly mean temperature can be compared between 81-10 and 91-20"
      ]
    },
    {
      "cell_type": "code",
      "metadata": {
        "id": "urdUetXE5tSl",
        "colab": {
          "base_uri": "https://localhost:8080/",
          "height": 334
        },
        "outputId": "f437785c-c592-460b-d89a-471c5008aaad"
      },
      "source": [
        "\n",
        "plt.figure(figsize=(15,5))\n",
        "plt.plot(df_81_20['81_10 NM_T (°C)'],label='81_10 NM_T (°C)')\n",
        "plt.plot(df_81_20['91_20 NM_T (°C)'],label='91_20 NM_T (°C)')\n",
        "plt.plot(df_81_20['91_20 NM_OGLAZE (days)'],label='91_20 NM_OGLAZE (days)')\n",
        "plt.plot(df_81_20['81_10 NM_OGLAZE (days)'],label='81_10 NM_OGLAZE (days)')\n",
        "plt.legend()\n",
        "plt.xlabel('month')\n",
        "\n",
        "plt.show()"
      ],
      "execution_count": 42,
      "outputs": [
        {
          "output_type": "display_data",
          "data": {
            "image/png": "[encoded data removed]",
            "text/plain": [
              "<Figure size 1080x360 with 1 Axes>"
            ]
          },
          "metadata": {
            "needs_background": "light"
          }
        }
      ]
    }
  ]
}